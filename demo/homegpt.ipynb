{
 "cells": [
  {
   "cell_type": "code",
   "execution_count": 1,
   "metadata": {},
   "outputs": [],
   "source": [
    "import json\n",
    "import requests"
   ]
  },
  {
   "cell_type": "code",
   "execution_count": 2,
   "metadata": {},
   "outputs": [],
   "source": [
    "HUE_IP = '192.168.1.66'\n",
    "HUE_USERNAME = 'VoPmvg2GFfp36GBnuzz1RUC3XvAi1Tp1QIafLstR'\n",
    "GROUP_TO_CONTROL = '3'"
   ]
  },
  {
   "cell_type": "code",
   "execution_count": 3,
   "metadata": {},
   "outputs": [],
   "source": [
    "def get_state():\n",
    "    r = requests.get(f'http://{HUE_IP}/api/{HUE_USERNAME}/groups')\n",
    "    return r.json()"
   ]
  },
  {
   "cell_type": "code",
   "execution_count": 14,
   "metadata": {},
   "outputs": [],
   "source": [
    "context = str(get_state()[GROUP_TO_CONTROL]['action'])"
   ]
  },
  {
   "cell_type": "code",
   "execution_count": 15,
   "metadata": {},
   "outputs": [
    {
     "data": {
      "text/plain": [
       "'You are an AI tasked with controlling a smart home. Here is the state of the devices in the home, in JSON format \"{\\'on\\': True, \\'bri\\': 254, \\'hue\\': 10529, \\'sat\\': 254, \\'effect\\': \\'none\\', \\'xy\\': [0.477, 0.4694], \\'ct\\': 399, \\'alert\\': \\'select\\', \\'colormode\\': \\'xy\\'}\" The user issues the command: Turn the lights white and blink them continuously. Change the device state as appropriate. Provide your response in JSON format.'"
      ]
     },
     "execution_count": 15,
     "metadata": {},
     "output_type": "execute_result"
    }
   ],
   "source": [
    "query = 'Turn the lights white and blink them continuously'\n",
    "\n",
    "framing = f'You are an AI tasked with controlling a smart home.'\n",
    "state = f'Here is the state of the devices in the home, in JSON format {json.dumps(context)}'\n",
    "command = f'The user issues the command: {query}. Change the device state as appropriate.'\n",
    "formatting = f'Provide your response in JSON format.'\n",
    "\n",
    "f'{framing} {state} {command} {formatting}'"
   ]
  },
  {
   "cell_type": "code",
   "execution_count": 16,
   "metadata": {},
   "outputs": [
    {
     "data": {
      "text/plain": [
       "['Warning: Input is not a terminal (fd=0).',\n",
       " 'PluginManager - ERROR - Plugin awesome not found in search path',\n",
       " '',\n",
       " \"Here's the updated JSON format with the new device state as per the user's command:\",\n",
       " '',\n",
       " '{',\n",
       " '  \"on\": true,',\n",
       " '  \"bri\": 254,',\n",
       " '  \"hue\": 0,',\n",
       " '  \"sat\": 0,',\n",
       " '  \"effect\": \"blink\",',\n",
       " '  \"xy\": [0.3227, 0.329],',\n",
       " '  \"ct\": 399,',\n",
       " '  \"alert\": \"lselect\",',\n",
       " '  \"colormode\": \"xy\"',\n",
       " '}',\n",
       " '',\n",
       " 'Explanation:',\n",
       " '',\n",
       " '- \"on\": true - This means the lights are turned on.',\n",
       " '- \"bri\": 254 - This sets the brightness of the lights to the maximum value of 254.',\n",
       " '- \"hue\": 0 - This sets the hue to 0, which is white light.',\n",
       " '- \"sat\": 0 - This sets the saturation to 0, which means the color is fully desaturated and the light is completely white.',\n",
       " '- \"effect\": \"blink\" - This sets the effect of the lights to blink continuously.',\n",
       " '- \"xy\": [0.3227, 0.329] - This sets the color of the light to a specific xy coordinate that represents white light.',\n",
       " '- \"ct\": 399 - This sets the color temperature to the original value of 399.',\n",
       " '- \"alert\": \"lselect\" - This makes the lights blink quickly for a short period of time to indicate that they are in alert mode.',\n",
       " '- \"colormode\": \"xy\" - This confirms that the lights are in XY color mode.',\n",
       " '']"
      ]
     },
     "execution_count": 16,
     "metadata": {},
     "output_type": "execute_result"
    }
   ],
   "source": [
    "response = !chatgpt f'{framing} {state} {command} {formatting}'\n",
    "response"
   ]
  },
  {
   "cell_type": "code",
   "execution_count": 21,
   "metadata": {},
   "outputs": [
    {
     "name": "stdout",
     "output_type": "stream",
     "text": [
      "{  \"on\": true,  \"bri\": 254,  \"hue\": 0,  \"sat\": 0,  \"effect\": \"blink\",  \"xy\": [0.3227, 0.329],  \"ct\": 399,  \"alert\": \"lselect\",  \"colormode\": \"xy\"}\n"
     ]
    }
   ],
   "source": [
    "# grab the json from the response\n",
    "idxs = [i for i, ln in enumerate(response) if ln == '{' or ln == '}']\n",
    "\n",
    "parsed_response = response[idxs[0]:idxs[-1] + 1]\n",
    "parsed_response = ''.join(parsed_response).strip()\n",
    "\n",
    "json_response = json.loads(parsed_response)"
   ]
  },
  {
   "cell_type": "code",
   "execution_count": 25,
   "metadata": {},
   "outputs": [
    {
     "data": {
      "text/plain": [
       "[{'error': {'type': 7,\n",
       "   'address': '/groups/3/action/effect',\n",
       "   'description': 'invalid value, blink, for parameter, effect'}},\n",
       " {'error': {'type': 6,\n",
       "   'address': '/groups/3/action/colormode',\n",
       "   'description': 'parameter, colormode, not available'}},\n",
       " {'success': {'/groups/3/action/on': True}},\n",
       " {'success': {'/groups/3/action/bri': 254}},\n",
       " {'success': {'/groups/3/action/hue': 0}},\n",
       " {'success': {'/groups/3/action/sat': 0}},\n",
       " {'success': {'/groups/3/action/ct': 399}},\n",
       " {'success': {'/groups/3/action/xy': [0.3227, 0.329]}},\n",
       " {'success': {'/groups/3/action/alert': 'lselect'}}]"
      ]
     },
     "execution_count": 25,
     "metadata": {},
     "output_type": "execute_result"
    }
   ],
   "source": [
    "# call the philips hue API with the new device state\n",
    "r = requests.put(f'http://{HUE_IP}/api/{HUE_USERNAME}/groups/{GROUP_TO_CONTROL}/action', json=json_response)\n",
    "r.json()"
   ]
  }
 ],
 "metadata": {
  "kernelspec": {
   "display_name": "base",
   "language": "python",
   "name": "python3"
  },
  "language_info": {
   "codemirror_mode": {
    "name": "ipython",
    "version": 3
   },
   "file_extension": ".py",
   "mimetype": "text/x-python",
   "name": "python",
   "nbconvert_exporter": "python",
   "pygments_lexer": "ipython3",
   "version": "3.9.16"
  },
  "orig_nbformat": 4,
  "vscode": {
   "interpreter": {
    "hash": "0de3b845acd206eb77ce2e1febe382fd31487301bf5ada74fe5931c27840861b"
   }
  }
 },
 "nbformat": 4,
 "nbformat_minor": 2
}
