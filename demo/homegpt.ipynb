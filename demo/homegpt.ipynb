{
 "cells": [
  {
   "cell_type": "code",
   "execution_count": 258,
   "metadata": {},
   "outputs": [
    {
     "data": {
      "text/plain": [
       "True"
      ]
     },
     "execution_count": 258,
     "metadata": {},
     "output_type": "execute_result"
    }
   ],
   "source": [
    "import json\n",
    "import requests\n",
    "from dotenv import load_dotenv\n",
    "import os\n",
    "import openai\n",
    "\n",
    "load_dotenv()"
   ]
  },
  {
   "cell_type": "code",
   "execution_count": 259,
   "metadata": {},
   "outputs": [],
   "source": [
    "openai.api_key = os.getenv('OPENAI_API_KEY')\n",
    "\n",
    "HUE_IP = os.getenv('HUE_IP')\n",
    "HUE_USERNAME = os.getenv('HUE_USERNAME')\n",
    "GROUP_TO_CONTROL = '2'\n",
    "\n",
    "KASA_IP = os.getenv('KASA_IP')"
   ]
  },
  {
   "cell_type": "code",
   "execution_count": 260,
   "metadata": {},
   "outputs": [],
   "source": [
    "def get_context():\n",
    "    r = requests.get(f'http://{HUE_IP}/api/{HUE_USERNAME}/groups')\n",
    "    return r.json()"
   ]
  },
  {
   "cell_type": "code",
   "execution_count": 261,
   "metadata": {},
   "outputs": [],
   "source": [
    "def make_prompt(context, command):\n",
    "    framing = f'You are an AI that controls a smart home.'\n",
    "    context = f'Here is the state of the devices in the home, in JSON format: {json.dumps(context)}'\n",
    "    command = f'The user issues the command: {command}. Change the device state as appropriate.'\n",
    "    formatting = f'Provide your response in JSON format.'\n",
    "\n",
    "    return f'{framing} {context} {command} {formatting}'\n",
    "\n",
    "def query_chatgpt(prompt):\n",
    "    response = openai.Completion.create(\n",
    "      model='text-davinci-003',\n",
    "      prompt=prompt,\n",
    "      temperature=0.7,\n",
    "      max_tokens=2000,\n",
    "      top_p=1,\n",
    "      frequency_penalty=0,\n",
    "      presence_penalty=0\n",
    "    )\n",
    "    return response"
   ]
  },
  {
   "cell_type": "code",
   "execution_count": null,
   "metadata": {},
   "outputs": [],
   "source": [
    "context = {'lights': get_context()[GROUP_TO_CONTROL]['action']}\n",
    "context['stereo'] = { 'state': 'off' }\n",
    "context"
   ]
  },
  {
   "cell_type": "code",
   "execution_count": null,
   "metadata": {},
   "outputs": [],
   "source": [
    "response = query_chatgpt(make_prompt(context, 'Set up for a party'))"
   ]
  },
  {
   "cell_type": "code",
   "execution_count": null,
   "metadata": {},
   "outputs": [],
   "source": [
    "json_response = json.loads(response['choices'][0]['text'])\n",
    "json_response"
   ]
  },
  {
   "cell_type": "code",
   "execution_count": null,
   "metadata": {},
   "outputs": [],
   "source": [
    "# call the philips hue API with the new device state\n",
    "r = requests.put(f'http://{HUE_IP}/api/{HUE_USERNAME}/groups/{GROUP_TO_CONTROL}/action', json=json_response['lights'])\n",
    "r.json()\n",
    "!kasa --host {KASA_IP} {json_response['stereo']['state']}"
   ]
  }
 ],
 "metadata": {
  "kernelspec": {
   "display_name": "base",
   "language": "python",
   "name": "python3"
  },
  "language_info": {
   "codemirror_mode": {
    "name": "ipython",
    "version": 3
   },
   "file_extension": ".py",
   "mimetype": "text/x-python",
   "name": "python",
   "nbconvert_exporter": "python",
   "pygments_lexer": "ipython3",
   "version": "3.9.16"
  },
  "orig_nbformat": 4,
  "vscode": {
   "interpreter": {
    "hash": "0de3b845acd206eb77ce2e1febe382fd31487301bf5ada74fe5931c27840861b"
   }
  }
 },
 "nbformat": 4,
 "nbformat_minor": 2
}
