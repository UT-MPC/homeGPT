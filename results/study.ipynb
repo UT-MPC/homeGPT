{
 "cells": [
  {
   "cell_type": "code",
   "execution_count": 39,
   "metadata": {},
   "outputs": [],
   "source": [
    "import pickle\n",
    "from itertools import product\n",
    "from statistics import mean, variance"
   ]
  },
  {
   "cell_type": "code",
   "execution_count": 25,
   "metadata": {},
   "outputs": [],
   "source": [
    "contexts = ['simple', 'medium', 'complex']\n",
    "commands = ['simple', 'medium', 'ambiguous']\n",
    "\n",
    "trials = list(product(contexts, commands))\n",
    "\n",
    "def parse_results(trial):\n",
    "    responses = []\n",
    "    trial = f'{trial[0]}_{trial[1]}'\n",
    "\n",
    "    with open(f'./pickles/{trial}.pkl', 'rb') as f:\n",
    "        while True:\n",
    "            try:\n",
    "                responses.append(pickle.load(f))\n",
    "            except EOFError:\n",
    "                break\n",
    "\n",
    "    return responses\n",
    "\n",
    "def dump_results(trial):\n",
    "    r = parse_results(trial)\n",
    "    \n",
    "    with open(f'./markdown/{trial}.md', 'w') as f:\n",
    "        for i, ln in enumerate(r):\n",
    "            f.write(f'# {i}\\n\\n')\n",
    "            f.write(ln.n)"
   ]
  },
  {
   "cell_type": "code",
   "execution_count": 57,
   "metadata": {},
   "outputs": [],
   "source": [
    "for trial in trials:\n",
    "    dump_results(trial)"
   ]
  },
  {
   "cell_type": "code",
   "execution_count": 53,
   "metadata": {},
   "outputs": [
    {
     "name": "stdout",
     "output_type": "stream",
     "text": [
      "('simple', 'simple'): 23.712513833400003 14.082197375000021 45.976859790999995 78.72022487348734\n",
      "('simple', 'medium'): 28.0679685917 15.163768333999997 65.78360083299998 291.34815905121235\n",
      "('simple', 'ambiguous'): 34.01800099600001 15.03762641700007 88.325560666 601.2921622061021\n",
      "('medium', 'simple'): 21.233151475100023 17.60596062500008 30.09781637499964 10.862286754880753\n",
      "('medium', 'medium'): 23.172843470800125 22.31898345799982 24.2394054589995 0.42693428434102737\n",
      "('medium', 'ambiguous'): 22.651793745899795 17.97393566699975 26.87344587500047 9.336656590646712\n",
      "('complex', 'simple'): 37.95535872079999 23.288524249999682 141.3339273750007 1325.9693914439767\n",
      "('complex', 'medium'): 33.202823454300415 26.77418949999992 54.141003958999136 63.89937948256032\n",
      "('complex', 'ambiguous'): 30.119902175099924 26.238345750000008 32.06110029199954 4.2235093988188535\n"
     ]
    }
   ],
   "source": [
    "def parse_time_results(trial):\n",
    "    ts = []\n",
    "    trial = f'{trial[0]}_{trial[1]}'\n",
    "\n",
    "    with open(f'./pickles/{trial}_t.pkl', 'rb') as f:\n",
    "        while True:\n",
    "            try:\n",
    "                ts.append(pickle.load(f))\n",
    "            except EOFError:\n",
    "                break\n",
    "\n",
    "    return ts[-10:]\n",
    "\n",
    "times = {}\n",
    "\n",
    "for trial in trials:\n",
    "    results = parse_time_results(trial)\n",
    "    # times[trial] = (mean(results), min(results), max(results), variance(results))\n",
    "    times[trial] = results\n",
    "\n",
    "\n",
    "for k, v in times.items():\n",
    "    print(f'{k}: {mean(v)} {min(v)} {max(v)} {variance(v)}')"
   ]
  },
  {
   "cell_type": "code",
   "execution_count": 56,
   "metadata": {},
   "outputs": [
    {
     "data": {
      "text/plain": [
       "{'whiskers': [<matplotlib.lines.Line2D at 0x106b539d0>,\n",
       "  <matplotlib.lines.Line2D at 0x106b53b50>,\n",
       "  <matplotlib.lines.Line2D at 0x106b69b80>,\n",
       "  <matplotlib.lines.Line2D at 0x106b69e20>,\n",
       "  <matplotlib.lines.Line2D at 0x106b78e20>,\n",
       "  <matplotlib.lines.Line2D at 0x106b86100>,\n",
       "  <matplotlib.lines.Line2D at 0x106b95100>,\n",
       "  <matplotlib.lines.Line2D at 0x106b953a0>,\n",
       "  <matplotlib.lines.Line2D at 0x106ba33a0>,\n",
       "  <matplotlib.lines.Line2D at 0x106ba3640>,\n",
       "  <matplotlib.lines.Line2D at 0x106bb0640>,\n",
       "  <matplotlib.lines.Line2D at 0x106bb08e0>,\n",
       "  <matplotlib.lines.Line2D at 0x106bbe550>,\n",
       "  <matplotlib.lines.Line2D at 0x106bbe790>,\n",
       "  <matplotlib.lines.Line2D at 0x106bc0790>,\n",
       "  <matplotlib.lines.Line2D at 0x106bc0a30>,\n",
       "  <matplotlib.lines.Line2D at 0x106bcca30>,\n",
       "  <matplotlib.lines.Line2D at 0x106bcccd0>],\n",
       " 'caps': [<matplotlib.lines.Line2D at 0x106b53df0>,\n",
       "  <matplotlib.lines.Line2D at 0x106b690d0>,\n",
       "  <matplotlib.lines.Line2D at 0x106b78100>,\n",
       "  <matplotlib.lines.Line2D at 0x106b783a0>,\n",
       "  <matplotlib.lines.Line2D at 0x106b863a0>,\n",
       "  <matplotlib.lines.Line2D at 0x106b86640>,\n",
       "  <matplotlib.lines.Line2D at 0x106b95640>,\n",
       "  <matplotlib.lines.Line2D at 0x106b958e0>,\n",
       "  <matplotlib.lines.Line2D at 0x106ba38e0>,\n",
       "  <matplotlib.lines.Line2D at 0x106ba3b80>,\n",
       "  <matplotlib.lines.Line2D at 0x106bb0b80>,\n",
       "  <matplotlib.lines.Line2D at 0x106bb0e20>,\n",
       "  <matplotlib.lines.Line2D at 0x106bbea30>,\n",
       "  <matplotlib.lines.Line2D at 0x106bbecd0>,\n",
       "  <matplotlib.lines.Line2D at 0x106bc0cd0>,\n",
       "  <matplotlib.lines.Line2D at 0x106bc0f70>,\n",
       "  <matplotlib.lines.Line2D at 0x106bccf70>,\n",
       "  <matplotlib.lines.Line2D at 0x106bd5250>],\n",
       " 'boxes': [<matplotlib.lines.Line2D at 0x106b53730>,\n",
       "  <matplotlib.lines.Line2D at 0x106b698e0>,\n",
       "  <matplotlib.lines.Line2D at 0x106b78b80>,\n",
       "  <matplotlib.lines.Line2D at 0x106b86e20>,\n",
       "  <matplotlib.lines.Line2D at 0x106ba3100>,\n",
       "  <matplotlib.lines.Line2D at 0x106bb03a0>,\n",
       "  <matplotlib.lines.Line2D at 0x106bbe2b0>,\n",
       "  <matplotlib.lines.Line2D at 0x106bc04f0>,\n",
       "  <matplotlib.lines.Line2D at 0x106bcc790>],\n",
       " 'medians': [<matplotlib.lines.Line2D at 0x106b69370>,\n",
       "  <matplotlib.lines.Line2D at 0x106b78640>,\n",
       "  <matplotlib.lines.Line2D at 0x106b868e0>,\n",
       "  <matplotlib.lines.Line2D at 0x106b95b80>,\n",
       "  <matplotlib.lines.Line2D at 0x106ba3e20>,\n",
       "  <matplotlib.lines.Line2D at 0x106bbe100>,\n",
       "  <matplotlib.lines.Line2D at 0x106bbef70>,\n",
       "  <matplotlib.lines.Line2D at 0x106bcc250>,\n",
       "  <matplotlib.lines.Line2D at 0x106bd54f0>],\n",
       " 'fliers': [<matplotlib.lines.Line2D at 0x106b69610>,\n",
       "  <matplotlib.lines.Line2D at 0x106b788e0>,\n",
       "  <matplotlib.lines.Line2D at 0x106b86b80>,\n",
       "  <matplotlib.lines.Line2D at 0x106b95e20>,\n",
       "  <matplotlib.lines.Line2D at 0x106bb0100>,\n",
       "  <matplotlib.lines.Line2D at 0x1069e5c10>,\n",
       "  <matplotlib.lines.Line2D at 0x106bc0250>,\n",
       "  <matplotlib.lines.Line2D at 0x106bcc4f0>,\n",
       "  <matplotlib.lines.Line2D at 0x106bd5790>],\n",
       " 'means': []}"
      ]
     },
     "execution_count": 56,
     "metadata": {},
     "output_type": "execute_result"
    },
    {
     "data": {
      "image/png": "[encoded data removed]",
      "text/plain": [
       "<Figure size 640x480 with 1 Axes>"
      ]
     },
     "metadata": {},
     "output_type": "display_data"
    }
   ],
   "source": [
    "import matplotlib.pyplot as plt\n",
    " \n",
    "plt.boxplot([times[k] for k in list(times.keys())])"
   ]
  }
 ],
 "metadata": {
  "kernelspec": {
   "display_name": "base",
   "language": "python",
   "name": "python3"
  },
  "language_info": {
   "codemirror_mode": {
    "name": "ipython",
    "version": 3
   },
   "file_extension": ".py",
   "mimetype": "text/x-python",
   "name": "python",
   "nbconvert_exporter": "python",
   "pygments_lexer": "ipython3",
   "version": "3.9.16"
  },
  "orig_nbformat": 4,
  "vscode": {
   "interpreter": {
    "hash": "0de3b845acd206eb77ce2e1febe382fd31487301bf5ada74fe5931c27840861b"
   }
  }
 },
 "nbformat": 4,
 "nbformat_minor": 2
}
